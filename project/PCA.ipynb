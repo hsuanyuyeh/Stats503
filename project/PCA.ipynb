{
 "cells": [
  {
   "cell_type": "code",
   "execution_count": null,
   "metadata": {},
   "outputs": [],
   "source": [
    "import os\n",
    "os.chdir('/Users/yehhsuan-yu/Umich/Stats503/project')\n",
    "#os.chdir('/home/hsuanyu')\n",
    "train = pd.read_csv('train.csv').fillna(' ')\n",
    "test = pd.read_csv('test.csv').fillna(' ')"
   ]
  },
  {
   "cell_type": "code",
   "execution_count": 6,
   "metadata": {},
   "outputs": [
    {
     "name": "stdout",
     "output_type": "stream",
     "text": [
      "(230896, 1000)\n"
     ]
    }
   ],
   "source": [
    "from sklearn.feature_extraction.text import CountVectorizer\n",
    "df=train.append(test,ignore_index=True)\n",
    "text=df[\"comment_text\"]\n",
    "\n",
    "word_vectorizer=CountVectorizer(\n",
    "    #sublinear_tf=True,\n",
    "    #strip_accents='unicode',\n",
    "    analyzer='word',\n",
    "    #token_pattern=r'\\w{1,}',\n",
    "    stop_words='english',\n",
    "    ngram_range=(1, 1),\n",
    "    max_features=30)\n",
    "# tokenize and build vocab\n",
    "word_vectorizer.fit(text)\n",
    "\n",
    "\n",
    "train_features = word_vectorizer.transform(train['comment_text'])\n",
    "test_features=word_vectorizer.transform(test['comment_text'])\n",
    "print(train_features.shape)"
   ]
  },
  {
   "cell_type": "code",
   "execution_count": null,
   "metadata": {},
   "outputs": [],
   "source": [
    "# PCA\n",
    "from sklearn.decomposition import PCA\n",
    "PCA_tfidf = PCA(n_components=30).fit(train_features.toarray())\n",
    "import pickle\n",
    "os.chdir('/Users/yehhsuan-yu/Umich/Stats503/project')\n",
    "#os.chdir('/home/hsuanyu')\n",
    "pickle.dump(PCA_tfidf, open('PCA30_count.p','wb'))"
   ]
  },
  {
   "cell_type": "code",
   "execution_count": 2,
   "metadata": {},
   "outputs": [
    {
     "name": "stdout",
     "output_type": "stream",
     "text": [
      "(230896, 1000)\n"
     ]
    }
   ],
   "source": [
    "from sklearn.feature_extraction.text import TfidfVectorizer\n",
    "df=train.append(test,ignore_index=True)\n",
    "text=df[\"comment_text\"]\n",
    "\n",
    "word_vectorizer_tfidf=TfidfVectorizer(\n",
    "    sublinear_tf=True,\n",
    "    #strip_accents='unicode',\n",
    "    analyzer='word',\n",
    "    #token_pattern=r'\\w{1,}',\n",
    "    stop_words='english',\n",
    "    ngram_range=(1, 1),\n",
    "    max_features=30)\n",
    "word_vectorizer_tfidf.fit(text)\n",
    "\n",
    "train_features_tfidf = word_vectorizer_tfidf.transform(train['comment_text'])\n",
    "test_features_tfidf = word_vectorizer_tfidf.transform(test['comment_text'])\n",
    "print(train_features_tfidf.shape)"
   ]
  },
  {
   "cell_type": "code",
   "execution_count": null,
   "metadata": {},
   "outputs": [],
   "source": [
    "# PCA\n",
    "PCA_tfidf = PCA(n_components=30).fit(train_features_tfidf.toarray())\n",
    "import pickle\n",
    "os.chdir('/Users/yehhsuan-yu/Umich/Stats503/project')\n",
    "#os.chdir('/home/hsuanyu')\n",
    "pickle.dump(PCA_tfidf, open('PCA30_tfidf.p','wb'))"
   ]
  }
 ],
 "metadata": {
  "kernelspec": {
   "display_name": "Python 3",
   "language": "python",
   "name": "python3"
  },
  "language_info": {
   "codemirror_mode": {
    "name": "ipython",
    "version": 3
   },
   "file_extension": ".py",
   "mimetype": "text/x-python",
   "name": "python",
   "nbconvert_exporter": "python",
   "pygments_lexer": "ipython3",
   "version": "3.6.4"
  }
 },
 "nbformat": 4,
 "nbformat_minor": 2
}
