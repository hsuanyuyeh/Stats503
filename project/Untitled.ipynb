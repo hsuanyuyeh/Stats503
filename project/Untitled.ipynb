{
 "cells": [
  {
   "cell_type": "code",
   "execution_count": 366,
   "metadata": {},
   "outputs": [],
   "source": [
    "import numpy as np\n",
    "import matplotlib as mp\n",
    "import matplotlib.pyplot as plt\n",
    "import pandas as pd\n",
    "import os\n",
    "\n",
    "from sklearn.feature_extraction.text import TfidfVectorizer\n",
    "from sklearn.linear_model import LogisticRegression\n",
    "from sklearn.model_selection import cross_val_score\n",
    "from scipy.sparse import hstack\n",
    "os.chdir('/Users/yehhsuan-yu/Downloads')\n",
    "np.random.seed(8)\n",
    "\n",
    "df = pd.read_csv('traincom.csv').fillna(' ')\n",
    "df.head(10)\n",
    "df = df.loc[:,[\"comment_text\",\"toxic\"]]\n",
    "\n",
    "df_toxic = df[df['toxic']==1]\n",
    "df_nontoxic = df[df['toxic']==0]"
   ]
  },
  {
   "cell_type": "code",
   "execution_count": 368,
   "metadata": {},
   "outputs": [],
   "source": [
    "from sklearn.utils import resample\n",
    "n = 5000\n",
    "df_nontoxic_resample=resample(df_nontoxic, n_samples=n, replace=False, random_state=0)\n",
    "df_toxic_resample=resample(df_toxic, n_samples=n, replace=False, random_state=0)\n",
    "df=df_nontoxic_resample.append(df_toxic_resample,ignore_index=True)\n",
    "\n",
    "from sklearn.model_selection import train_test_split\n",
    "train, test=train_test_split(df, test_size=0.2)"
   ]
  },
  {
   "cell_type": "code",
   "execution_count": 369,
   "metadata": {},
   "outputs": [],
   "source": [
    "train.to_csv('train.csv')\n",
    "test.to_csv('test.csv')"
   ]
  },
  {
   "cell_type": "markdown",
   "metadata": {},
   "source": [
    "# CountVectorizer"
   ]
  },
  {
   "cell_type": "code",
   "execution_count": 354,
   "metadata": {},
   "outputs": [
    {
     "data": {
      "text/plain": [
       "(8000, 56)"
      ]
     },
     "execution_count": 354,
     "metadata": {},
     "output_type": "execute_result"
    }
   ],
   "source": [
    "import os\n",
    "os.chdir('/Users/yehhsuan-yu/Downloads')\n",
    "X_train = pd.read_csv('train.csv').fillna(' ').iloc[:,0:56]\n",
    "X_test = pd.read_csv('test.csv').fillna(' ').iloc[:,0:56]\n",
    "X_train_tfidf = pd.read_csv('train_tfidf.csv').fillna(' ').iloc[:,0:56]\n",
    "X_test_tfidf = pd.read_csv('test_tfidf.csv').fillna(' ').iloc[:,0:56]\n",
    "X_train.shape"
   ]
  },
  {
   "cell_type": "code",
   "execution_count": 370,
   "metadata": {},
   "outputs": [
    {
     "name": "stdout",
     "output_type": "stream",
     "text": [
      "(8000, 100)\n",
      "(2000, 100)\n"
     ]
    }
   ],
   "source": [
    "from sklearn.feature_extraction.text import CountVectorizer\n",
    "df=train.append(test,ignore_index=True)\n",
    "text=df[\"comment_text\"]\n",
    "\n",
    "word_vectorizer=CountVectorizer(\n",
    "    #sublinear_tf=True,\n",
    "    strip_accents='unicode',\n",
    "    analyzer='word',\n",
    "    #token_pattern=r'\\w{1,}',\n",
    "    stop_words='english',\n",
    "    ngram_range=(1, 1),\n",
    "    max_features=100)\n",
    "# tokenize and build vocab\n",
    "word_vectorizer.fit(text)\n",
    "\n",
    "\n",
    "train_features = word_vectorizer.transform(train['comment_text'])\n",
    "test_features=word_vectorizer.transform(test['comment_text'])\n",
    "print(train_features.shape)\n",
    "#print(word_vectorizer.get_feature_names())\n",
    "print(test_features.shape)"
   ]
  },
  {
   "cell_type": "code",
   "execution_count": 28,
   "metadata": {},
   "outputs": [],
   "source": [
    "# class count\n",
    "import os\n",
    "os.chdir('/Users/yehhsuan-yu/Umich/Stats503/project/feature')\n",
    "train_features_df = pd.DataFrame(train_features.toarray())\n",
    "toxic_df = pd.DataFrame(train['identity_hate'])\n",
    "#train_features_toxic = train_features_df.append(toxic_df)\n",
    "train_features_toxic = pd.concat([train_features_df, toxic_df.reset_index(drop=True)], ignore_index=True, axis=1)\n",
    "\n",
    "#train_features_toxic\n",
    "#train_features_toxic = train_features.append(toxic_df)\n",
    "name = pd.DataFrame(word_vectorizer.get_feature_names())\n",
    "name.to_csv('name1.csv')\n",
    "train_features_toxic.to_csv('train_feaures_identity.csv')"
   ]
  },
  {
   "cell_type": "code",
   "execution_count": 337,
   "metadata": {},
   "outputs": [
    {
     "name": "stderr",
     "output_type": "stream",
     "text": [
      "/Library/Frameworks/Python.framework/Versions/3.6/lib/python3.6/site-packages/sklearn/utils/validation.py:475: DataConversionWarning: Data with input dtype int64 was converted to float64 by the scale function.\n",
      "  warnings.warn(msg, DataConversionWarning)\n"
     ]
    },
    {
     "name": "stdout",
     "output_type": "stream",
     "text": [
      "[0.04875175 0.08194877 0.10595649 0.12914994 0.15157189 0.17156522\n",
      " 0.19154388 0.21141288 0.23126589 0.25103599 0.27061734 0.29004415\n",
      " 0.3081852  0.32617288 0.34335583 0.35979468 0.37618057 0.39241785\n",
      " 0.40682316 0.42105592 0.43475413 0.44833581 0.46179586 0.47401536\n",
      " 0.48587491 0.49768049 0.50934265 0.5202876  0.53120135 0.54179987\n",
      " 0.55222578 0.56234551 0.57240138 0.58240901 0.59241347 0.60241616\n",
      " 0.61241788 0.62241938 0.63242065 0.64242174 0.65242275 0.66241536\n",
      " 0.67238052 0.68228327 0.69215962 0.70185606 0.71141248 0.72088598\n",
      " 0.73013552 0.7393387  0.74848858 0.75744487 0.76635435 0.77518276\n",
      " 0.78393797 0.79242142 0.80082824 0.80911861 0.81717565 0.82522302\n",
      " 0.83319791 0.84091001 0.84858972 0.85616332 0.86351931 0.87068348\n",
      " 0.8777959  0.88484443 0.89167747 0.89844744 0.90513825 0.91173086\n",
      " 0.91819179 0.92457938 0.93094335 0.93693828 0.94278976 0.94854736\n",
      " 0.95420449 0.95966941 0.96442573 0.9688026  0.97304919 0.97697906\n",
      " 0.98081347 0.98457645 0.98814129 0.99126465 0.99359979 0.9954669\n",
      " 0.9965226  0.997526   0.99832247 0.99903097 0.99950317 0.99973081\n",
      " 0.99986732 0.99994992 0.99998425 1.        ]\n"
     ]
    }
   ],
   "source": [
    "# PCA\n",
    "from sklearn import preprocessing\n",
    "from scipy.sparse import coo_matrix, vstack\n",
    "#train_features = pd.DataFrame(train_features.toarray())\n",
    "#train_features_1 = (train_features-train_features.mean())/train_features.std(ddof=0)\n",
    "#test_features = pd.DataFrame(test_features.toarray())\n",
    "#test_features_1 = (test_features-test_features.mean())/test_features.std(ddof=0)\n",
    "features = vstack([train_features,test_features])\n",
    "features_scaled = preprocessing.scale(features.toarray(), )\n",
    "PCA100_count = PCA(n_components=100).fit(features_scaled)\n",
    "print(np.cumsum(PCA100_count.explained_variance_ratio_))"
   ]
  },
  {
   "cell_type": "code",
   "execution_count": 331,
   "metadata": {},
   "outputs": [],
   "source": [
    "from sklearn.decomposition import PCA\n",
    "PCA57_count = PCA(n_components=57).fit(features_scaled)\n",
    "#print(np.cumsum(PCA57_count.explained_variance_ratio_)[0:57]) \n",
    "X = PCA57_count.transform(features_scaled)\n",
    "X_train, X_test=train_test_split(X, test_size=0.2)\n"
   ]
  },
  {
   "cell_type": "code",
   "execution_count": 343,
   "metadata": {},
   "outputs": [
    {
     "name": "stdout",
     "output_type": "stream",
     "text": [
      "(8000, 58)\n"
     ]
    }
   ],
   "source": [
    "print(X_train.shape)"
   ]
  },
  {
   "cell_type": "code",
   "execution_count": 132,
   "metadata": {},
   "outputs": [
    {
     "name": "stdout",
     "output_type": "stream",
     "text": [
      "(8000, 100)\n"
     ]
    },
    {
     "data": {
      "image/png": "[encoded data removed]",
      "text/plain": [
       "<matplotlib.figure.Figure at 0x127622400>"
      ]
     },
     "metadata": {},
     "output_type": "display_data"
    }
   ],
   "source": [
    "print(train_features.shape)\n",
    "fig = plt.figure()\n",
    "ax1 = fig.add_subplot(111)\n",
    "cmap = plt.cm.get_cmap('jet',30)\n",
    "cax = ax1.imshow(train_features.corr(), interpolation=\"nearest\", cmap=cmap)\n",
    "ax1.grid(False)\n",
    "plt.title('Word Feature Correlation')\n",
    "labels=word_vectorizer.get_feature_names()\n",
    "ax1.set_xticks(np.arange(0,100))\n",
    "ax1.set_yticks(np.arange(0,100))\n",
    "ax1.set_xticklabels(labels,fontsize=3, rotation=90)\n",
    "ax1.set_yticklabels(labels,fontsize=3)\n",
    "# Add colorbar, make sure to specify tick locations to match desired ticklabels\n",
    "fig.colorbar(cax)\n",
    "plt.show()\n",
    "fig.savefig('corr.png', format='png', dpi=1000)"
   ]
  },
  {
   "cell_type": "code",
   "execution_count": 248,
   "metadata": {},
   "outputs": [
    {
     "name": "stdout",
     "output_type": "stream",
     "text": [
      "The optimal number of neighbors is 3\n"
     ]
    }
   ],
   "source": [
    "# KNN-PCA\n",
    "\n",
    "from sklearn.neighbors import KNeighborsClassifier\n",
    "\n",
    "myList = list(range(1,30))\n",
    "neighbors = filter(lambda x: x%2 != 0, myList)\n",
    "cv_scores = []\n",
    "for k in neighbors:\n",
    "    knn_count = KNeighborsClassifier(n_neighbors=k, n_jobs=4)\n",
    "    scores = cross_val_score(knn_count, X_train, np.array(train['toxic']), cv=5, scoring='accuracy')\n",
    "    cv_scores.append(scores.mean())\n",
    "\n",
    "MSE_count = [1 - x for x in cv_scores]\n",
    "neighbors = filter(lambda x: x%2 != 0, myList)\n",
    "l = [i for i in neighbors]\n",
    "optimal_k = l[MSE_count.index(min(MSE_count))]\n",
    "print (\"The optimal number of neighbors is %d\" % optimal_k)\n",
    "#MSE_count_df = pd.DataFrame(MSE_count)\n",
    "#MSE_count_df.to_csv('/home/hsuanyu/MSE_count.csv')"
   ]
  },
  {
   "cell_type": "code",
   "execution_count": null,
   "metadata": {},
   "outputs": [],
   "source": [
    "myList = list(range(1,30))\n",
    "neighbors = filter(lambda x: x%2 != 0, myList)\n",
    "l = [i for i in neighbors]\n",
    "optimal_k = l[MSE_count.index(min(MSE_count))]\n",
    "print (\"The optimal number of neighbors is %d\" % optimal_k)\n",
    "MSE_count_df = pd.DataFrame(MSE_count)\n",
    "MSE_count_df.to_csv('MSE_count.csv')\n",
    "\n",
    "import matplotlib.pyplot as plt\n",
    "plt.plot(l, MSE_count)\n",
    "plt.show()"
   ]
  },
  {
   "cell_type": "code",
   "execution_count": 360,
   "metadata": {},
   "outputs": [
    {
     "name": "stdout",
     "output_type": "stream",
     "text": [
      "0.6435\n"
     ]
    }
   ],
   "source": [
    "# KNN-PCA\n",
    "\n",
    "\n",
    "from sklearn.neighbors import KNeighborsClassifier\n",
    "#from sklearn.grid_search import GridSearchCV\n",
    "knn_tfidf = KNeighborsClassifier(n_neighbors=3, n_jobs=4).fit(X_train, np.array(train['toxic']))\n",
    "predict_tfidf = knn_tfidf.predict(X_test)\n",
    "predict_tfidf = np.array(predict_tfidf)\n",
    "print(sum(predict_tfidf == test['toxic'])/2000.0)"
   ]
  },
  {
   "cell_type": "code",
   "execution_count": 242,
   "metadata": {},
   "outputs": [
    {
     "name": "stdout",
     "output_type": "stream",
     "text": [
      "2000\n",
      "0.7475\n"
     ]
    }
   ],
   "source": [
    "# Naive Bayes\n",
    "\n",
    "from sklearn.naive_bayes import MultinomialNB\n",
    "NB = MultinomialNB().fit(train_features.toarray(), np.array(train['toxic']))\n",
    "predict = NB.predict(test_features.toarray())\n",
    "predict=np.array(predict)\n",
    "train_y=np.array(train['toxic'])\n",
    "print(len(test['toxic']))\n",
    "print(sum(predict==test['toxic'])/2000.0)"
   ]
  },
  {
   "cell_type": "code",
   "execution_count": 358,
   "metadata": {},
   "outputs": [
    {
     "name": "stdout",
     "output_type": "stream",
     "text": [
      "2000\n",
      "0.4985\n"
     ]
    }
   ],
   "source": [
    "# NB-PCA\n",
    "from sklearn.naive_bayes import GaussianNB\n",
    "NB_tfidf = GaussianNB().fit(X_train, train['toxic'])\n",
    "predict_tfidf = NB_tfidf.predict(X_test)\n",
    "predict_tfidf=np.array(predict_tfidf)\n",
    "train_y=np.array(train['toxic'])\n",
    "print(len(test['toxic']))\n",
    "print(sum(predict_tfidf==test['toxic'])/2000.0)"
   ]
  },
  {
   "cell_type": "code",
   "execution_count": 154,
   "metadata": {},
   "outputs": [
    {
     "name": "stdout",
     "output_type": "stream",
     "text": [
      "0.6945\n"
     ]
    }
   ],
   "source": [
    "# LDA\n",
    "from sklearn.discriminant_analysis import LinearDiscriminantAnalysis\n",
    "LDA_tfidf = LinearDiscriminantAnalysis().fit(train_features.toarray(), np.array(train['toxic']))\n",
    "predict_tfidf = LDA_tfidf.predict(test_features.toarray())\n",
    "predict_tfidf = np.array(predict_tfidf)\n",
    "train_y = np.array(train['toxic'])\n",
    "print(sum(predict_tfidf == test['toxic'])/2000.0)"
   ]
  },
  {
   "cell_type": "code",
   "execution_count": 359,
   "metadata": {},
   "outputs": [
    {
     "name": "stdout",
     "output_type": "stream",
     "text": [
      "0.656\n"
     ]
    }
   ],
   "source": [
    "# LDA-PCA\n",
    "from sklearn.discriminant_analysis import LinearDiscriminantAnalysis\n",
    "LDA_tfidf = LinearDiscriminantAnalysis().fit(X_train, np.array(train['toxic']))\n",
    "predict_tfidf = LDA_tfidf.predict(X_test)\n",
    "predict_tfidf = np.array(predict_tfidf)\n",
    "train_y = np.array(train['toxic'])\n",
    "print(sum(predict_tfidf == test['toxic'])/2000.0)"
   ]
  },
  {
   "cell_type": "code",
   "execution_count": 254,
   "metadata": {},
   "outputs": [],
   "source": [
    "# Random Forest\n",
    "from sklearn.ensemble import RandomForestClassifier\n",
    "from sklearn.model_selection import cross_val_score\n",
    "\n",
    "myList = list(range(1,30))\n",
    "n_estim = filter(lambda x: x%2 != 0, myList)\n",
    "cv_scores = []\n",
    "for k in n_estim:\n",
    "    rf_count = RandomForestClassifier(n_estimators=k, n_jobs=4, max_depth=10, max_features='sqrt', min_samples_leaf = 1)\n",
    "    scores = cross_val_score(rf_count, X_train, np.array(train['toxic']), cv=5, scoring='accuracy')\n",
    "    cv_scores.append(scores.mean())\n",
    "\n",
    "MSE_count = [1 - x for x in cv_scores]"
   ]
  },
  {
   "cell_type": "code",
   "execution_count": 255,
   "metadata": {},
   "outputs": [
    {
     "name": "stdout",
     "output_type": "stream",
     "text": [
      "The optimal number of estimators is 15\n"
     ]
    }
   ],
   "source": [
    "myList = list(range(1,30))\n",
    "n_estim = filter(lambda x: x%2 != 0, myList)\n",
    "l = [i for i in n_estim]\n",
    "optimal_k = l[MSE_count.index(min(MSE_count))]\n",
    "print (\"The optimal number of estimators is %d\" % optimal_k)"
   ]
  },
  {
   "cell_type": "code",
   "execution_count": 361,
   "metadata": {},
   "outputs": [
    {
     "name": "stdout",
     "output_type": "stream",
     "text": [
      "0.701\n"
     ]
    }
   ],
   "source": [
    "from sklearn.ensemble import RandomForestClassifier\n",
    "rf_tfidf = RandomForestClassifier(n_estimators=15, n_jobs=4, max_depth=10, max_features='sqrt', min_samples_leaf = 1).fit(X_train, np.array(train['toxic']))\n",
    "predict_tfidf = rf_tfidf.predict(X_test)\n",
    "predict_tfidf = np.array(predict_tfidf)\n",
    "print(sum(predict_tfidf == test['toxic'])/2000.0)"
   ]
  },
  {
   "cell_type": "code",
   "execution_count": 46,
   "metadata": {},
   "outputs": [],
   "source": [
    "# K-means\n",
    "from sklearn.cluster import KMeans\n",
    "from scipy.spatial.distance import cdist\n",
    "distortions = []\n",
    "K = range(1,1000,20)\n",
    "for k in K:\n",
    "    kmeanModel = KMeans(n_clusters=k).fit(train_features.toarray())\n",
    "    kmeanModel.fit(train_features.toarray())\n",
    "    distortions.append(sum(np.min(cdist(train_features.toarray(), kmeanModel.cluster_centers_, 'euclidean'), axis=1)) / train_features.toarray().shape[0])"
   ]
  },
  {
   "cell_type": "code",
   "execution_count": 41,
   "metadata": {},
   "outputs": [
    {
     "data": {
      "text/plain": [
       "15"
      ]
     },
     "execution_count": 41,
     "metadata": {},
     "output_type": "execute_result"
    }
   ],
   "source": [
    "K = range(1,100,5)\n",
    "len(K)"
   ]
  },
  {
   "cell_type": "code",
   "execution_count": 45,
   "metadata": {},
   "outputs": [
    {
     "data": {
      "image/png": "[encoded data removed]",
      "text/plain": [
       "<matplotlib.figure.Figure at 0x11b950b70>"
      ]
     },
     "metadata": {},
     "output_type": "display_data"
    }
   ],
   "source": [
    "import matplotlib.pyplot as plt\n",
    "plt.plot(distortions)\n",
    "plt.show()"
   ]
  },
  {
   "cell_type": "markdown",
   "metadata": {},
   "source": [
    "# TfidfVectorizer"
   ]
  },
  {
   "cell_type": "code",
   "execution_count": 319,
   "metadata": {},
   "outputs": [],
   "source": [
    "from sklearn.feature_extraction.text import TfidfVectorizer\n",
    "text=df[\"comment_text\"]\n",
    "\n",
    "word_vectorizer_tfidf=TfidfVectorizer(\n",
    "    sublinear_tf=True,\n",
    "    strip_accents='unicode',\n",
    "    analyzer='word',\n",
    "    #token_pattern=r'\\w{1,}',\n",
    "    stop_words='english',\n",
    "    ngram_range=(1, 3),\n",
    "    max_features=100)\n",
    "word_vectorizer_tfidf.fit(text)\n",
    "\n",
    "train_features_tfidf = word_vectorizer_tfidf.transform(train['comment_text'])\n",
    "test_features_tfidf = word_vectorizer_tfidf.transform(test['comment_text'])\n",
    "#print(train_features_tfidf.shape)\n",
    "#word_vectorizer_tfidf.get_feature_names()"
   ]
  },
  {
   "cell_type": "code",
   "execution_count": 148,
   "metadata": {},
   "outputs": [],
   "source": [
    "import os\n",
    "os.chdir('/Users/yehhsuan-yu/Umich/Stats503/project/feature')\n",
    "train_features_df = pd.DataFrame(train_features.toarray())\n",
    "toxic_df = pd.DataFrame(train['toxic'])\n",
    "#train_features_toxic = train_features_df.append(toxic_df)\n",
    "train_features_toxic = pd.concat([train_features_df, toxic_df.reset_index(drop=True)], ignore_index=True, axis=1)\n",
    "\n",
    "#train_features_toxic\n",
    "#train_features_toxic = train_features.append(toxic_df)\n",
    "name = pd.DataFrame(word_vectorizer_tfidf.get_feature_names())\n",
    "name.to_csv('tfidf_name3.csv')\n",
    "train_features_toxic.to_csv('train_feaures_tfidf_toxic3.csv')"
   ]
  },
  {
   "cell_type": "code",
   "execution_count": 320,
   "metadata": {},
   "outputs": [
    {
     "name": "stdout",
     "output_type": "stream",
     "text": [
      "[[ 1.00010001e+00 -1.78396082e-03  2.32866272e-01 ...  3.20268693e-02\n",
      "   1.04907737e-02  3.89668945e-02]\n",
      " [-1.78396082e-03  1.00010001e+00 -3.11929287e-03 ... -9.13008599e-04\n",
      "  -5.23760812e-04 -1.46594217e-03]\n",
      " [ 2.32866272e-01 -3.11929287e-03  1.00010001e+00 ...  6.29226835e-02\n",
      "   3.04925379e-02  1.18357233e-01]\n",
      " ...\n",
      " [ 3.20268693e-02 -9.13008599e-04  6.29226835e-02 ...  1.00010001e+00\n",
      "   2.79611319e-03  1.69671514e-02]\n",
      " [ 1.04907737e-02 -5.23760812e-04  3.04925379e-02 ...  2.79611319e-03\n",
      "   1.00010001e+00  9.85291831e-03]\n",
      " [ 3.89668945e-02 -1.46594217e-03  1.18357233e-01 ...  1.69671514e-02\n",
      "   9.85291831e-03  1.00010001e+00]]\n"
     ]
    }
   ],
   "source": [
    "# PCA\n",
    "from sklearn import preprocessing\n",
    "from scipy.sparse import coo_matrix, vstack\n",
    "#train_features = pd.DataFrame(train_features.toarray())\n",
    "#train_features_1 = (train_features-train_features.mean())/train_features.std(ddof=0)\n",
    "#test_features = pd.DataFrame(test_features.toarray())\n",
    "#test_features_1 = (test_features-test_features.mean())/test_features.std(ddof=0)\n",
    "features = vstack([train_features_tfidf,test_features_tfidf])\n",
    "\n",
    "features_scaled = preprocessing.scale(features.toarray())\n",
    "dat_t = np.transpose(min_max_scaler)\n",
    "print(np.cov(dat_t))"
   ]
  },
  {
   "cell_type": "code",
   "execution_count": 321,
   "metadata": {},
   "outputs": [
    {
     "name": "stdout",
     "output_type": "stream",
     "text": [
      "[0.04011071 0.08019731 0.11020254 0.13147669 0.1522747  0.17259071\n",
      " 0.19264818 0.21247744 0.2308648  0.24780439 0.26464218 0.2812606\n",
      " 0.29635873 0.31044833 0.32416591 0.33647337 0.34844344 0.36024141\n",
      " 0.37164051 0.3829567  0.39419036 0.40536551 0.41637502 0.4272804\n",
      " 0.43809739 0.44884241 0.45955818 0.47021995 0.48076842 0.49129129\n",
      " 0.5017497  0.5121031  0.52242271 0.53266675 0.54282777 0.55296508\n",
      " 0.56307786 0.57312911 0.58316964 0.59317151 0.60314898 0.61310284\n",
      " 0.62302525 0.63290425 0.64272185 0.65251094 0.6622717  0.67196836\n",
      " 0.68164109 0.69126216 0.7008195  0.71037093 0.71985059 0.72929183\n",
      " 0.73872573 0.74812233 0.75745177 0.76672827 0.77599451 0.78522146\n",
      " 0.79443167 0.80360042]\n"
     ]
    }
   ],
   "source": [
    "from sklearn.decomposition import PCA\n",
    "PCA57_count = PCA(n_components=100).fit(features_scaled)\n",
    "print(np.cumsum(PCA57_count.explained_variance_ratio_)[0:62]) "
   ]
  },
  {
   "cell_type": "code",
   "execution_count": 84,
   "metadata": {},
   "outputs": [
    {
     "name": "stdout",
     "output_type": "stream",
     "text": [
      "<class 'sklearn.decomposition.pca.PCA'>\n",
      "[[ 1.00012502  0.14859486  0.14859486 ... -0.00796792 -0.009537\n",
      "  -0.00773212]\n",
      " [ 0.14859486  1.00012502  1.00012502 ... -0.00197498 -0.00409311\n",
      "  -0.00191653]\n",
      " [ 0.14859486  1.00012502  1.00012502 ... -0.00197498 -0.00409311\n",
      "  -0.00191653]\n",
      " ...\n",
      " [-0.00796792 -0.00197498 -0.00197498 ...  1.00012502  0.07556683\n",
      "   0.00867277]\n",
      " [-0.009537   -0.00409311 -0.00409311 ...  0.07556683  1.00012502\n",
      "   0.00111841]\n",
      " [-0.00773212 -0.00191653 -0.00191653 ...  0.00867277  0.00111841\n",
      "   1.00012502]]\n"
     ]
    }
   ],
   "source": [
    "# PCA\n",
    "train_features_tfidf = pd.DataFrame(train_features_tfidf.toarray())\n",
    "train_features_2 = (train_features_tfidf-train_features_tfidf.mean())/train_features_tfidf.std(ddof=0)\n",
    "\n",
    "from sklearn.decomposition import PCA\n",
    "PCA100 = PCA(n_components=100).fit(train_features_2)\n",
    "os.chdir('/Users/yehhsuan-yu/Umich/Stats503/project')\n",
    "#pickle.dump(PCA30_tfidf, open('PCA30_tfidf.p','wb'))\n",
    "print(type(PCA100))\n",
    "print(PCA100.get_covariance())\n",
    "#print(np.cumsum(PCA100.explained_variance_ratio_)) \n",
    "PCAcumsum_df = pd.DataFrame(np.cumsum(PCA100.explained_variance_ratio_))\n",
    "PCAcumsum_df.to_csv('PCAcumsum_tfidf.csv')"
   ]
  },
  {
   "cell_type": "code",
   "execution_count": 136,
   "metadata": {},
   "outputs": [
    {
     "name": "stdout",
     "output_type": "stream",
     "text": [
      "(8000, 100)\n"
     ]
    },
    {
     "data": {
      "image/png": "[encoded data removed]",
      "text/plain": [
       "<matplotlib.figure.Figure at 0x1301774a8>"
      ]
     },
     "metadata": {},
     "output_type": "display_data"
    }
   ],
   "source": [
    "print(train_features.shape)\n",
    "fig = plt.figure()\n",
    "ax1 = fig.add_subplot(111)\n",
    "cmap = plt.cm.get_cmap('jet',30)\n",
    "cax = ax1.imshow(train_features_tfidf.corr(), interpolation=\"nearest\", cmap=cmap)\n",
    "ax1.grid(False)\n",
    "plt.title('Word Feature Correlation')\n",
    "labels=word_vectorizer_tfidf.get_feature_names()\n",
    "ax1.set_xticks(np.arange(0,100))\n",
    "ax1.set_yticks(np.arange(0,100))\n",
    "ax1.set_xticklabels(labels,fontsize=3, rotation=90)\n",
    "ax1.set_yticklabels(labels,fontsize=3)\n",
    "# Add colorbar, make sure to specify tick locations to match desired ticklabels\n",
    "fig.colorbar(cax)\n",
    "plt.show()\n",
    "fig.savefig('corr_tfidf.png', format='png', dpi=1000)"
   ]
  },
  {
   "cell_type": "code",
   "execution_count": 155,
   "metadata": {},
   "outputs": [
    {
     "name": "stdout",
     "output_type": "stream",
     "text": [
      "0.7435\n"
     ]
    }
   ],
   "source": [
    "# Naive Bayes\n",
    "\n",
    "from sklearn.naive_bayes import MultinomialNB\n",
    "NB_tfidf = MultinomialNB().fit(train_features_tfidf, train['toxic'])\n",
    "predict_tfidf = NB_tfidf.predict(test_features_tfidf)\n",
    "predict_tfidf=np.array(predict_tfidf)\n",
    "train_y=np.array(train['toxic'])\n",
    "#print(len(test['toxic']))\n",
    "print(sum(predict_tfidf==test['toxic'])/2000.0)"
   ]
  },
  {
   "cell_type": "code",
   "execution_count": 362,
   "metadata": {},
   "outputs": [
    {
     "name": "stdout",
     "output_type": "stream",
     "text": [
      "2000\n",
      "0.6645\n"
     ]
    }
   ],
   "source": [
    "# NB-PCA\n",
    "from sklearn.naive_bayes import GaussianNB\n",
    "NB_tfidf = GaussianNB().fit(X_train_tfidf, train['toxic'])\n",
    "predict_tfidf = NB_tfidf.predict(X_test_tfidf)\n",
    "predict_tfidf=np.array(predict_tfidf)\n",
    "train_y=np.array(train['toxic'])\n",
    "print(len(test['toxic']))\n",
    "print(sum(predict_tfidf==test['toxic'])/2000.0)"
   ]
  },
  {
   "cell_type": "code",
   "execution_count": 159,
   "metadata": {},
   "outputs": [
    {
     "name": "stdout",
     "output_type": "stream",
     "text": [
      "0.749\n"
     ]
    },
    {
     "name": "stderr",
     "output_type": "stream",
     "text": [
      "/Library/Frameworks/Python.framework/Versions/3.6/lib/python3.6/site-packages/sklearn/discriminant_analysis.py:388: UserWarning: Variables are collinear.\n",
      "  warnings.warn(\"Variables are collinear.\")\n"
     ]
    }
   ],
   "source": [
    "# LDA\n",
    "from sklearn.discriminant_analysis import LinearDiscriminantAnalysis\n",
    "LDA_tfidf = LinearDiscriminantAnalysis().fit(train_features_tfidf.toarray(), np.array(train['toxic']))\n",
    "predict_tfidf = LDA_tfidf.predict(test_features_tfidf.toarray())\n",
    "predict_tfidf = np.array(predict_tfidf)\n",
    "train_y = np.array(train['toxic'])\n",
    "print(sum(predict_tfidf == test['toxic'])/2000.0)"
   ]
  },
  {
   "cell_type": "code",
   "execution_count": 363,
   "metadata": {},
   "outputs": [
    {
     "name": "stdout",
     "output_type": "stream",
     "text": [
      "0.7485\n"
     ]
    }
   ],
   "source": [
    "# LDA-PCA\n",
    "from sklearn.discriminant_analysis import LinearDiscriminantAnalysis\n",
    "LDA_tfidf = LinearDiscriminantAnalysis().fit(X_train_tfidf, np.array(train['toxic']))\n",
    "predict_tfidf = LDA_tfidf.predict(X_test_tfidf)\n",
    "predict_tfidf = np.array(predict_tfidf)\n",
    "train_y = np.array(train['toxic'])\n",
    "print(sum(predict_tfidf == test['toxic'])/2000.0)"
   ]
  },
  {
   "cell_type": "code",
   "execution_count": 364,
   "metadata": {},
   "outputs": [
    {
     "name": "stdout",
     "output_type": "stream",
     "text": [
      "0.7225\n"
     ]
    }
   ],
   "source": [
    "# KNN-PCA\n",
    "from sklearn.neighbors import KNeighborsClassifier\n",
    "#from sklearn.grid_search import GridSearchCV\n",
    "knn_tfidf = KNeighborsClassifier(n_neighbors=3, n_jobs=4).fit(X_train_tfidf, np.array(train['toxic']))\n",
    "predict_tfidf = knn_tfidf.predict(X_test_tfidf)\n",
    "predict_tfidf = np.array(predict_tfidf)\n",
    "print(sum(predict_tfidf == test['toxic'])/2000.0)"
   ]
  },
  {
   "cell_type": "code",
   "execution_count": 365,
   "metadata": {},
   "outputs": [
    {
     "name": "stdout",
     "output_type": "stream",
     "text": [
      "0.7545\n"
     ]
    }
   ],
   "source": [
    "# RF-PCA\n",
    "from sklearn.ensemble import RandomForestClassifier\n",
    "rf_tfidf = RandomForestClassifier(n_estimators=15, n_jobs=4, max_depth=10, max_features='sqrt', min_samples_leaf = 1).fit(X_train_tfidf, np.array(train['toxic']))\n",
    "predict_tfidf = rf_tfidf.predict(X_test_tfidf)\n",
    "predict_tfidf = np.array(predict_tfidf)\n",
    "print(sum(predict_tfidf == test['toxic'])/2000.0)"
   ]
  },
  {
   "cell_type": "code",
   "execution_count": null,
   "metadata": {},
   "outputs": [],
   "source": []
  }
 ],
 "metadata": {
  "kernelspec": {
   "display_name": "Python 3",
   "language": "python",
   "name": "python3"
  },
  "language_info": {
   "codemirror_mode": {
    "name": "ipython",
    "version": 3
   },
   "file_extension": ".py",
   "mimetype": "text/x-python",
   "name": "python",
   "nbconvert_exporter": "python",
   "pygments_lexer": "ipython3",
   "version": "3.6.4"
  }
 },
 "nbformat": 4,
 "nbformat_minor": 2
}
