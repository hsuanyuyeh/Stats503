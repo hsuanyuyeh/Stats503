{
 "cells": [
  {
   "cell_type": "code",
   "execution_count": 1,
   "metadata": {},
   "outputs": [],
   "source": [
    "import os\n",
    "import pandas as pd\n",
    "import numpy as np\n",
    "os.chdir('/Users/yehhsuan-yu/Umich/Stats503/project')\n",
    "#os.chdir('/home/hsuanyu')\n",
    "train = pd.read_csv('train.csv').fillna(' ')\n",
    "test = pd.read_csv('test.csv').fillna(' ')"
   ]
  },
  {
   "cell_type": "markdown",
   "metadata": {},
   "source": [
    "# CountVectorizer"
   ]
  },
  {
   "cell_type": "code",
   "execution_count": 3,
   "metadata": {},
   "outputs": [
    {
     "name": "stdout",
     "output_type": "stream",
     "text": [
      "(8000, 100)\n"
     ]
    }
   ],
   "source": [
    "from sklearn.feature_extraction.text import CountVectorizer\n",
    "df=train.append(test,ignore_index=True)\n",
    "text=df[\"comment_text\"]\n",
    "\n",
    "word_vectorizer=CountVectorizer(\n",
    "    #sublinear_tf=True,\n",
    "    #strip_accents='unicode',\n",
    "    analyzer='word',\n",
    "    #token_pattern=r'\\w{1,}',\n",
    "    stop_words='english',\n",
    "    ngram_range=(1, 1),\n",
    "    max_features=100)\n",
    "# tokenize and build vocab\n",
    "word_vectorizer.fit(text)\n",
    "\n",
    "\n",
    "train_features = word_vectorizer.transform(train['comment_text'])\n",
    "test_features=word_vectorizer.transform(test['comment_text'])\n",
    "print(train_features.shape)"
   ]
  },
  {
   "cell_type": "code",
   "execution_count": 39,
   "metadata": {},
   "outputs": [],
   "source": [
    "# Random Forest\n",
    "from sklearn.ensemble import RandomForestClassifier\n",
    "from sklearn.model_selection import cross_val_score\n",
    "\n",
    "myList = list(range(1,30))\n",
    "n_estim = filter(lambda x: x%2 != 0, myList)\n",
    "cv_scores = []\n",
    "for k in n_estim:\n",
    "    rf_count = RandomForestClassifier(n_estimators=k, n_jobs=4, max_depth=10, max_features='sqrt', min_samples_leaf = 1)\n",
    "    scores = cross_val_score(rf_count, train_features.toarray(), np.array(train['toxic']), cv=5, scoring='accuracy')\n",
    "    cv_scores.append(scores.mean())\n",
    "\n",
    "MSE_count = [1 - x for x in cv_scores]"
   ]
  },
  {
   "cell_type": "code",
   "execution_count": 40,
   "metadata": {},
   "outputs": [
    {
     "name": "stdout",
     "output_type": "stream",
     "text": [
      "The optimal number of estimators is 23\n"
     ]
    }
   ],
   "source": [
    "myList = list(range(1,30))\n",
    "n_estim = filter(lambda x: x%2 != 0, myList)\n",
    "l = [i for i in n_estim]\n",
    "optimal_k = l[MSE_count.index(min(MSE_count))]\n",
    "print (\"The optimal number of estimators is %d\" % optimal_k)\n",
    "MSE_count_df = pd.DataFrame(MSE_count)\n",
    "MSE_count_df.to_csv('/Users/yehhsuan-yu/Umich/Stats503/project/MSE_count_rf.csv')"
   ]
  },
  {
   "cell_type": "code",
   "execution_count": 41,
   "metadata": {},
   "outputs": [
    {
     "name": "stdout",
     "output_type": "stream",
     "text": [
      "0.7585\n"
     ]
    }
   ],
   "source": [
    "from sklearn.ensemble import RandomForestClassifier\n",
    "rf_tfidf = RandomForestClassifier(n_estimators=23, n_jobs=4, max_depth=10, max_features='sqrt', min_samples_leaf = 1).fit(train_features.toarray(), np.array(train['toxic']))\n",
    "predict_tfidf = rf_tfidf.predict(test_features.toarray())\n",
    "predict_tfidf = np.array(predict_tfidf)\n",
    "print(sum(predict_tfidf == test['toxic'])/2000.0)"
   ]
  },
  {
   "cell_type": "code",
   "execution_count": 42,
   "metadata": {},
   "outputs": [
    {
     "data": {
      "image/png": "[encoded data removed]",
      "text/plain": [
       "<matplotlib.figure.Figure at 0x10cd78cf8>"
      ]
     },
     "metadata": {},
     "output_type": "display_data"
    }
   ],
   "source": [
    "import matplotlib.pyplot as plt\n",
    "a = plt.figure()\n",
    "plt.plot(l, MSE_count)\n",
    "ax = plt.gca()\n",
    "ax.set_xticks(range(0,20))\n",
    "ax.set_xticklabels(myList)\n",
    "plt.xlabel('Number of trees')\n",
    "plt.ylabel('MSE')\n",
    "plt.title('Choose the Number of trees through CV')\n",
    "plt.show()\n",
    "a.savefig('rf_mse.eps', format='eps', dpi=1000)"
   ]
  },
  {
   "cell_type": "markdown",
   "metadata": {},
   "source": [
    "# TfidfVectorizer"
   ]
  },
  {
   "cell_type": "code",
   "execution_count": 34,
   "metadata": {},
   "outputs": [
    {
     "name": "stdout",
     "output_type": "stream",
     "text": [
      "(8000, 100)\n"
     ]
    }
   ],
   "source": [
    "from sklearn.feature_extraction.text import TfidfVectorizer\n",
    "text=df[\"comment_text\"]\n",
    "\n",
    "word_vectorizer_tfidf=TfidfVectorizer(\n",
    "    sublinear_tf=True,\n",
    "    #strip_accents='unicode',\n",
    "    analyzer='word',\n",
    "    #token_pattern=r'\\w{1,}',\n",
    "    stop_words='english',\n",
    "    ngram_range=(1, 1),\n",
    "    max_features=100)\n",
    "word_vectorizer_tfidf.fit(text)\n",
    "\n",
    "train_features_tfidf = word_vectorizer_tfidf.transform(train['comment_text'])\n",
    "test_features_tfidf = word_vectorizer_tfidf.transform(test['comment_text'])\n",
    "print(train_features_tfidf.shape)"
   ]
  },
  {
   "cell_type": "code",
   "execution_count": 35,
   "metadata": {},
   "outputs": [],
   "source": [
    "from sklearn.ensemble import RandomForestClassifier\n",
    "from sklearn.model_selection import cross_val_score\n",
    "\n",
    "myList = list(range(1,30))\n",
    "n_estim = filter(lambda x: x%2 != 0, myList)\n",
    "cv_scores = []\n",
    "for k in n_estim:\n",
    "    rf_tfidf = RandomForestClassifier(n_estimators=k, n_jobs=4, max_depth=10, max_features='sqrt', min_samples_leaf = 1)\n",
    "    scores = cross_val_score(rf_tfidf, train_features_tfidf.toarray(), np.array(train['toxic']), cv=5, scoring='accuracy')\n",
    "    cv_scores.append(scores.mean())\n",
    "\n",
    "MSE_tfidf = [1 - x for x in cv_scores]"
   ]
  },
  {
   "cell_type": "code",
   "execution_count": 36,
   "metadata": {},
   "outputs": [
    {
     "name": "stdout",
     "output_type": "stream",
     "text": [
      "The optimal number of estimators is 23\n"
     ]
    }
   ],
   "source": [
    "myList = list(range(1,30))\n",
    "n_estim = filter(lambda x: x%2 != 0, myList)\n",
    "l = [i for i in n_estim]\n",
    "optimal_k = l[MSE_tfidf.index(min(MSE_tfidf))]\n",
    "print (\"The optimal number of estimators is %d\" % optimal_k)\n",
    "MSE_tfidf_df = pd.DataFrame(MSE_tfidf)\n",
    "MSE_tfidf_df.to_csv('/Users/yehhsuan-yu/Umich/Stats503/project/MSE_tfidf_rf.csv')"
   ]
  },
  {
   "cell_type": "code",
   "execution_count": 37,
   "metadata": {},
   "outputs": [
    {
     "name": "stdout",
     "output_type": "stream",
     "text": [
      "0.7595\n"
     ]
    }
   ],
   "source": [
    "from sklearn.ensemble import RandomForestClassifier\n",
    "rf_tfidf = RandomForestClassifier(n_estimators=23, n_jobs=4, max_depth=10, max_features='sqrt', min_samples_leaf = 1).fit(train_features_tfidf.toarray(), np.array(train['toxic']))\n",
    "predict_tfidf = rf_tfidf.predict(test_features_tfidf.toarray())\n",
    "predict_tfidf = np.array(predict_tfidf)\n",
    "print(sum(predict_tfidf == test['toxic'])/2000.0)"
   ]
  },
  {
   "cell_type": "code",
   "execution_count": 38,
   "metadata": {},
   "outputs": [
    {
     "data": {
      "image/png": "[encoded data removed]",
      "text/plain": [
       "<matplotlib.figure.Figure at 0x10c9d3b70>"
      ]
     },
     "metadata": {},
     "output_type": "display_data"
    }
   ],
   "source": [
    "import matplotlib.pyplot as plt\n",
    "plt.plot(l, MSE_tfidf)\n",
    "plt.show()"
   ]
  },
  {
   "cell_type": "code",
   "execution_count": null,
   "metadata": {},
   "outputs": [],
   "source": []
  }
 ],
 "metadata": {
  "kernelspec": {
   "display_name": "Python 3",
   "language": "python",
   "name": "python3"
  },
  "language_info": {
   "codemirror_mode": {
    "name": "ipython",
    "version": 3
   },
   "file_extension": ".py",
   "mimetype": "text/x-python",
   "name": "python",
   "nbconvert_exporter": "python",
   "pygments_lexer": "ipython3",
   "version": "3.6.4"
  }
 },
 "nbformat": 4,
 "nbformat_minor": 2
}
