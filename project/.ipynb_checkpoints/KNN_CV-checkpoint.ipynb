{
 "cells": [
  {
   "cell_type": "code",
   "execution_count": 1,
   "metadata": {},
   "outputs": [],
   "source": [
    "import os\n",
    "import pandas as pd\n",
    "os.chdir('/Users/yehhsuan-yu/Umich/Stats503/project')\n",
    "#os.chdir('/home/hsuanyu')\n",
    "train = pd.read_csv('train.csv').fillna(' ')\n",
    "test = pd.read_csv('test.csv').fillna(' ')"
   ]
  },
  {
   "cell_type": "markdown",
   "metadata": {},
   "source": [
    "# CountVectorizer"
   ]
  },
  {
   "cell_type": "code",
   "execution_count": 5,
   "metadata": {},
   "outputs": [
    {
     "name": "stdout",
     "output_type": "stream",
     "text": [
      "(230896, 30)\n"
     ]
    }
   ],
   "source": [
    "from sklearn.feature_extraction.text import CountVectorizer\n",
    "df=train.append(test,ignore_index=True)\n",
    "text=df[\"comment_text\"]\n",
    "\n",
    "word_vectorizer=CountVectorizer(\n",
    "    #sublinear_tf=True,\n",
    "    #strip_accents='unicode',\n",
    "    analyzer='word',\n",
    "    #token_pattern=r'\\w{1,}',\n",
    "    stop_words='english',\n",
    "    ngram_range=(1, 1),\n",
    "    max_features=30)\n",
    "# tokenize and build vocab\n",
    "word_vectorizer.fit(text)\n",
    "\n",
    "\n",
    "train_features = word_vectorizer.transform(train['comment_text'])\n",
    "test_features=word_vectorizer.transform(test['comment_text'])\n",
    "print(train_features.shape)"
   ]
  },
  {
   "cell_type": "code",
   "execution_count": null,
   "metadata": {},
   "outputs": [],
   "source": [
    "# KNN\n",
    "from sklearn.neighbors import KNeighborsClassifier\n",
    "\n",
    "myList = list(range(1,50))\n",
    "neighbors = filter(lambda x: x%2 != 0, myList)\n",
    "cv_scores = []\n",
    "for k in neighbors:\n",
    "    knn_count = KNeighborsClassifier(n_neighbors=k, n_jobs=4)\n",
    "    scores = cross_val_score(knn_count, train_features.toarray(), np.array(train['toxic']), cv=5, scoring='accuracy')\n",
    "    cv_scores.append(scores.mean())\n",
    "\n",
    "MSE_count = [1 - x for x in cv_scores]\n",
    "optimal_k = neighbors[MSE.index(min(MSE))]\n",
    "print (\"The optimal number of neighbors is %d\" % optimal_k)\n",
    "MSE_count_df = pd.DataFrame(MSE_count)\n",
    "MSE_count_df.to_csv('/home/hsuanyu/MSE_count.csv')"
   ]
  },
  {
   "cell_type": "code",
   "execution_count": null,
   "metadata": {},
   "outputs": [],
   "source": [
    "#predict_tfidf = knn_tfidf.predict(test_features_tfidf.toarray())\n",
    "#predict_tfidf = np.array(predict_tfidf)\n",
    "#print(sum(predict_tfidf == test['toxic'])/31915.0)"
   ]
  },
  {
   "cell_type": "markdown",
   "metadata": {},
   "source": [
    "# TfidfVectorizer"
   ]
  },
  {
   "cell_type": "code",
   "execution_count": 3,
   "metadata": {},
   "outputs": [
    {
     "name": "stdout",
     "output_type": "stream",
     "text": [
      "(230896, 30)\n"
     ]
    }
   ],
   "source": [
    "from sklearn.feature_extraction.text import TfidfVectorizer\n",
    "df=train.append(test,ignore_index=True)\n",
    "text=df[\"comment_text\"]\n",
    "\n",
    "word_vectorizer_tfidf=TfidfVectorizer(\n",
    "    sublinear_tf=True,\n",
    "    #strip_accents='unicode',\n",
    "    analyzer='word',\n",
    "    #token_pattern=r'\\w{1,}',\n",
    "    stop_words='english',\n",
    "    ngram_range=(1, 1),\n",
    "    max_features=30)\n",
    "word_vectorizer_tfidf.fit(text)\n",
    "\n",
    "train_features_tfidf = word_vectorizer_tfidf.transform(train['comment_text'])\n",
    "test_features_tfidf = word_vectorizer_tfidf.transform(test['comment_text'])\n",
    "print(train_features_tfidf.shape)"
   ]
  },
  {
   "cell_type": "code",
   "execution_count": null,
   "metadata": {},
   "outputs": [],
   "source": [
    "# KNN\n",
    "from sklearn.neighbors import KNeighborsClassifier\n",
    "\n",
    "myList = list(range(1,50))\n",
    "neighbors = filter(lambda x: x%2 != 0, myList)\n",
    "cv_scores = []\n",
    "for k in neighbors:\n",
    "    knn_tfidf = KNeighborsClassifier(n_neighbors=k, n_jobs=4)\n",
    "    scores = cross_val_score(knn_tfidf, train_features_tfidf.toarray(), np.array(train['toxic']), cv=5, scoring='accuracy')\n",
    "    cv_scores.append(scores.mean())\n",
    "\n",
    "MSE_tfidf = [1 - x for x in cv_scores]\n",
    "optimal_k = neighbors[MSE.index(min(MSE))]\n",
    "print (\"The optimal number of neighbors is %d\" % optimal_k)\n",
    "MSE_tfidf_df = pd.DataFrame(MSE_tfidf)\n",
    "MSE_tfidf_df.to_csv('/home/hsuanyu/MSE_tfidf.csv')"
   ]
  },
  {
   "cell_type": "code",
   "execution_count": null,
   "metadata": {},
   "outputs": [],
   "source": [
    "#predict_tfidf = knn_tfidf.predict(test_features_tfidf.toarray())\n",
    "#predict_tfidf = np.array(predict_tfidf)\n",
    "#print(sum(predict_tfidf == test['toxic'])/31915.0)"
   ]
  }
 ],
 "metadata": {
  "kernelspec": {
   "display_name": "Python 3",
   "language": "python",
   "name": "python3"
  },
  "language_info": {
   "codemirror_mode": {
    "name": "ipython",
    "version": 3
   },
   "file_extension": ".py",
   "mimetype": "text/x-python",
   "name": "python",
   "nbconvert_exporter": "python",
   "pygments_lexer": "ipython3",
   "version": "3.6.4"
  }
 },
 "nbformat": 4,
 "nbformat_minor": 2
}
